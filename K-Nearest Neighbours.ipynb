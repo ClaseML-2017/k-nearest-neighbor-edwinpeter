{
 "cells": [
  {
   "cell_type": "markdown",
   "metadata": {},
   "source": [
    "# K-Nearest Neighbours\n",
    "\n"
   ]
  },
  {
   "cell_type": "code",
   "execution_count": 105,
   "metadata": {},
   "outputs": [],
   "source": [
    "# Edwin Peter\n",
    "# 177019"
   ]
  },
  {
   "cell_type": "code",
   "execution_count": 120,
   "metadata": {},
   "outputs": [],
   "source": [
    "import numpy as np\n",
    "import matplotlib.pyplot as plt\n",
    "import pandas as pd\n",
    "from sklearn import datasets\n",
    "from sklearn.neighbors import KNeighborsClassifier\n",
    "from sklearn.cross_validation import train_test_split\n",
    "from sklearn.metrics import confusion_matrix\n",
    "from sklearn.metrics import accuracy_score\n",
    "from sklearn.svm import SVC\n",
    "import tensorflow as tf"
   ]
  },
  {
   "cell_type": "code",
   "execution_count": 121,
   "metadata": {},
   "outputs": [
    {
     "data": {
      "image/png": "[encoded data removed]",
      "text/plain": [
       "<matplotlib.figure.Figure at 0x117837150>"
      ]
     },
     "metadata": {},
     "output_type": "display_data"
    }
   ],
   "source": [
    "# Getting the data\n",
    "import matplotlib.patches as patches\n",
    "import matplotlib.path as path\n",
    "import math\n",
    "import tensorflow as tf\n",
    "\n",
    "num_points = 500\n",
    "radius = 1\n",
    "centre1 = (3,3)\n",
    "centre2 = (5,6)\n",
    "centre3 = (8,6)\n",
    "\n",
    "X = np.random.normal(6, 2, [num_points,2])\n",
    "Y = np.zeros(shape=(len(X),1))\n",
    "\n",
    "for i,index in zip(X, range(len(X))):\n",
    "    xcor,ycor = i[0], i[1]\n",
    "    dist1 = math.sqrt((centre1[0] - xcor) ** 2 + (centre1[1] - ycor) ** 2)\n",
    "    dist2 = math.sqrt((centre2[0] - xcor) ** 2 + (centre2[1] - ycor) ** 2)\n",
    "    dist3 = math.sqrt((centre3[0] - xcor) ** 2 + (centre3[1] - ycor) ** 2)\n",
    "    if (dist1 <= radius or dist2 <= radius or dist3 <= radius):\n",
    "        Y[index] = 1\n",
    "        \n",
    "fig1 = plt.figure()\n",
    "ax1 = fig1.add_subplot(111, aspect='equal')\n",
    "ax1.add_patch(patches.Circle(centre1, radius, fill= False))\n",
    "ax1.add_patch(patches.Circle(centre2, 1, fill= False))\n",
    "ax1.add_patch(patches.Circle(centre3, 1, fill= False))\n",
    "plt.scatter(X[:,0],X[:,1],color=['black' if i==1 else 'red' for i in Y])\n",
    "plt.show()"
   ]
  },
  {
   "cell_type": "code",
   "execution_count": 108,
   "metadata": {},
   "outputs": [],
   "source": [
    "classifier = KNeighborsClassifier(n_neighbors = 5,\n",
    "                                  metric = 'euclidean')\n",
    "classifier.fit(X, Y.ravel())\n",
    "prediction = classifier.predict(X)"
   ]
  },
  {
   "cell_type": "code",
   "execution_count": 109,
   "metadata": {},
   "outputs": [
    {
     "name": "stdout",
     "output_type": "stream",
     "text": [
      "Confusion Matrix:\n",
      "[[403   5]\n",
      " [  4  88]]\n",
      "\n",
      "Accuracy:98.2%\n"
     ]
    }
   ],
   "source": [
    "cm = confusion_matrix(Y, prediction)\n",
    "accuracy = accuracy_score(Y, prediction)\n",
    "print \"Confusion Matrix:\\n\", cm\n",
    "print \"\\nAccuracy:{}%\".format(accuracy*100)"
   ]
  },
  {
   "cell_type": "markdown",
   "metadata": {},
   "source": [
    "# SVM"
   ]
  },
  {
   "cell_type": "code",
   "execution_count": 111,
   "metadata": {},
   "outputs": [
    {
     "name": "stdout",
     "output_type": "stream",
     "text": [
      "Confusion Matrix:\n",
      "[[408   0]\n",
      " [  3  89]]\n",
      "\n",
      "Accuracy: 99.4%\n"
     ]
    }
   ],
   "source": [
    "classifier = SVC(kernel = 'rbf', random_state = 0, C=10)\n",
    "classifier.fit(X, Y.ravel())\n",
    "sv = classifier.support_vectors_\n",
    "\n",
    "prediction = classifier.predict(X)\n",
    "cm = confusion_matrix(Y, prediction)\n",
    "\n",
    "acc = np.mean(prediction==Y.T)*100\n",
    "print \"Confusion Matrix:\\n\", cm\n",
    "print \"\\nAccuracy: {}%\".format(acc)"
   ]
  },
  {
   "cell_type": "markdown",
   "metadata": {},
   "source": [
    "# Neural Networks"
   ]
  },
  {
   "cell_type": "code",
   "execution_count": 147,
   "metadata": {},
   "outputs": [
    {
     "name": "stdout",
     "output_type": "stream",
     "text": [
      "Neural Network Accuracy: 80.0000011921%\n"
     ]
    }
   ],
   "source": [
    "input_size=2\n",
    "hidden_layers=3\n",
    "output_size=1\n",
    "x = tf.placeholder(tf.float32,shape=[None,input_size])\n",
    "y_ = tf.placeholder(tf.float32,shape=[None,output_size])\n",
    "\n",
    "W1 = tf.Variable(tf.random_uniform([input_size,hidden_layers]))\n",
    "b1 = tf.Variable(tf.zeros([hidden_layers]))\n",
    "\n",
    "W2 = tf.Variable(tf.random_uniform([hidden_layers,output_size]))\n",
    "b2 = tf.Variable(tf.zeros([output_size]))\n",
    "\n",
    "hidden_layer = tf.nn.sigmoid(tf.add(tf.matmul(x, W1), b1))\n",
    "\n",
    "y = tf.nn.sigmoid(tf.add(tf.matmul(hidden_layer, W2),b2))\n",
    "\n",
    "lossfn = tf.reduce_mean(tf.reduce_sum((y_-y)**2))\n",
    "\n",
    "learning_rate = 0.1\n",
    "train_step = tf.train.GradientDescentOptimizer(learning_rate).minimize(lossfn)\n",
    "\n",
    "init = tf.global_variables_initializer()\n",
    "sess = tf.Session()\n",
    "correct_prediction = tf.equal(tf.round(y),y_)\n",
    "accuracy = tf.reduce_mean(tf.cast(correct_prediction, tf.float32))\n",
    "\n",
    "sess.run(init)\n",
    "\n",
    "epochs = 5000\n",
    "\n",
    "for i in range(epochs):\n",
    "    sess.run(train_step, feed_dict={x: X, y_: Y})\n",
    "acc = sess.run(accuracy, feed_dict={x: X, y_: Y})*100\n",
    "print \"Neural Network Accuracy: {}%\".format(acc)"
   ]
  }
 ],
 "metadata": {
  "kernelspec": {
   "display_name": "Python 2",
   "language": "python",
   "name": "python2"
  },
  "language_info": {
   "codemirror_mode": {
    "name": "ipython",
    "version": 2
   },
   "file_extension": ".py",
   "mimetype": "text/x-python",
   "name": "python",
   "nbconvert_exporter": "python",
   "pygments_lexer": "ipython2",
   "version": "2.7.11"
  }
 },
 "nbformat": 4,
 "nbformat_minor": 2
}
